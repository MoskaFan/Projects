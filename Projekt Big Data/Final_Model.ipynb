{
  "cells": [
    {
      "cell_type": "markdown",
      "metadata": {
        "id": "yTVkyVc1UgJ3"
      },
      "source": [
        "Wir haben folgende Modelle ausprobiert: BalancedBaggingClassifier, RandomForst, XGBoostClassifier, LGBMClassifier usw. Insgesamt ca. 15 Modelle. I. A. - Verarbeitung vom Datensatz, Features Vorbereitung, Modelauswahl, Prognose. L. L. - Hyperparmeter und Hyperparameter Optimization, Modelauswahl."
      ]
    },
    {
      "cell_type": "code",
      "execution_count": null,
      "metadata": {
        "id": "FvfxMOK9ORkL",
        "vscode": {
          "languageId": "python"
        }
      },
      "outputs": [],
      "source": [
        "from imblearn.pipeline import make_pipeline\n",
        "from imblearn.under_sampling import RandomUnderSampler\n",
        "from imblearn.over_sampling import RandomOverSampler\n",
        "import pandas as pd\n",
        "from scipy.stats import randint\n",
        "import numpy as np\n",
        "import pandas as pd\n",
        "from scipy.stats import uniform\n",
        "from sklearn.compose import ColumnTransformer\n",
        "from sklearn.metrics import f1_score, make_scorer\n",
        "from sklearn.model_selection import RandomizedSearchCV, GridSearchCV\n",
        "from sklearn.pipeline import Pipeline\n",
        "from sklearn.preprocessing import MinMaxScaler\n",
        "from sklearn.preprocessing import OneHotEncoder, LabelEncoder, OrdinalEncoder\n",
        "from scipy.stats import randint\n",
        "from sklearn.model_selection import cross_validate, train_test_split\n",
        "import matplotlib.pyplot as plt\n",
        "import seaborn as sns \n",
        "import datetime\n",
        "from sklearn.metrics import classification_report\n",
        "from sklearn.decomposition import PCA\n",
        "from imblearn.ensemble import BalancedBaggingClassifier\n",
        "from lightgbm import LGBMClassifier\n",
        "from pandas import cut\n",
        "from natsort import index_natsorted\n",
        "from xgboost import XGBClassifier"
      ]
    },
    {
      "cell_type": "code",
      "execution_count": null,
      "metadata": {
        "id": "IrJKCkstObkD",
        "vscode": {
          "languageId": "python"
        }
      },
      "outputs": [],
      "source": [
        "prediction_dataset = pd.read_csv(\n",
        "    'https://raw.githubusercontent.com/saschaschworm/big-data-and-data-science/' +\n",
        "    'master/datasets/prediction-challenge/prediction-dataset.csv', \n",
        "    index_col='identifier', parse_dates=['date'])\n",
        "\n",
        "dataset = pd.read_csv(\n",
        "    'https://raw.githubusercontent.com/saschaschworm/big-data-and-data-science/' +\n",
        "    'master/datasets/prediction-challenge/dataset.csv', \n",
        "    index_col='identifier', parse_dates=['date'])\n",
        "\n"
      ]
    },
    {
      "cell_type": "markdown",
      "metadata": {
        "id": "k9aCMe7saxmf"
      },
      "source": [
        "# **Verarbeitung**"
      ]
    },
    {
      "cell_type": "code",
      "execution_count": null,
      "metadata": {
        "id": "uTcX7hIKaAaP",
        "vscode": {
          "languageId": "python"
        }
      },
      "outputs": [],
      "source": [
        "dataset['year']=dataset['date'].dt.year\n",
        "dataset['month']=dataset['date'].dt.month\n",
        "dataset['day']=dataset['date'].dt.day\n",
        "dataset['weekday']=dataset['date'].dt.weekday\n",
        "dataset['mean_call']=dataset['duration']/(dataset['n_contacts_campaign']+dataset['n_contacts_before'])\n",
        "dataset['age_group']=pd.cut(dataset.age, bins=[0,20,40,60,80,100], labels=['0-20','20-40','40-60','60-80','80-100'])"
      ]
    },
    {
      "cell_type": "code",
      "execution_count": null,
      "metadata": {
        "colab": {
          "base_uri": "https://localhost:8080/"
        },
        "id": "xKAmThsox4u-",
        "outputId": "7d755fb7-f1c5-442d-f87d-50e96465b1ce",
        "vscode": {
          "languageId": "python"
        }
      },
      "outputs": [
        {
          "data": {
            "text/plain": [
              "success\n",
              "No     32893\n",
              "Yes     4176\n",
              "dtype: int64"
            ]
          },
          "execution_count": 243,
          "metadata": {
            "tags": []
          },
          "output_type": "execute_result"
        }
      ],
      "source": [
        "dataset.groupby(['success']).size()"
      ]
    },
    {
      "cell_type": "code",
      "execution_count": null,
      "metadata": {
        "id": "2RYfRE9hdwBS",
        "vscode": {
          "languageId": "python"
        }
      },
      "outputs": [],
      "source": [
        "n = 4000\n",
        "sample_yes = dataset[dataset['success'] == 'Yes'].sample(n=n, replace=False, random_state=1909)\n",
        "sample_no = dataset[dataset['success'] == 'No'].sample(n=n, replace=False, random_state=1909)\n",
        "dataset = pd.concat([sample_yes, sample_no])"
      ]
    },
    {
      "cell_type": "code",
      "execution_count": null,
      "metadata": {
        "id": "Ibu0eFzROfrJ",
        "vscode": {
          "languageId": "python"
        }
      },
      "outputs": [],
      "source": [
        "X, y = dataset.drop(['success','date'], axis=1), dataset['success']"
      ]
    },
    {
      "cell_type": "code",
      "execution_count": null,
      "metadata": {
        "id": "BDMj9cmbTDKi",
        "vscode": {
          "languageId": "python"
        }
      },
      "outputs": [],
      "source": [
        "X_train, X_test, y_train, y_test = train_test_split(X,y, test_size = 0.25, random_state = 1909)"
      ]
    },
    {
      "cell_type": "code",
      "execution_count": null,
      "metadata": {
        "id": "BM0B6lhQOEx1",
        "vscode": {
          "languageId": "python"
        }
      },
      "outputs": [],
      "source": [
        "hyperparams = {\n",
        "}\n",
        "\n",
        "classifier = XGBClassifier(random_state=1909)\n",
        "\n"
      ]
    },
    {
      "cell_type": "markdown",
      "metadata": {
        "id": "QfOI7JH_a-A2"
      },
      "source": [
        "# **Features**"
      ]
    },
    {
      "cell_type": "code",
      "execution_count": null,
      "metadata": {
        "id": "Yyp2KF1kOht4",
        "vscode": {
          "languageId": "python"
        }
      },
      "outputs": [],
      "source": [
        "categorical_features = ['education','job', 'credit_default','year','month','previous_conversion','personal_loan','communication_type','day', 'weekday', 'marital_status','housing_loan','age_group']\n",
        "numeric_features = ['n_contacts_before','days_since_last_contact','duration','n_contacts_campaign','mean_call','age']\n",
        "\n",
        "categorical_transformer = Pipeline([\n",
        "    ('OneHotEncoder', OneHotEncoder(handle_unknown = \"ignore\")),\n",
        "])\n",
        "\n",
        "\n",
        "\n",
        "\n",
        "numeric_transformer = Pipeline([\n",
        "    ('scaler', MinMaxScaler()),\n",
        "    \n",
        "])\n",
        "\n",
        "preprocessor = ColumnTransformer([\n",
        "    ('categorical_transformer', categorical_transformer, categorical_features),\n",
        "    ('numeric_transformer', numeric_transformer, numeric_features)],\n",
        "\n",
        "remainder='passthrough',\n",
        ")\n",
        "\n",
        "\n",
        "\n",
        "pipeline = Pipeline([\n",
        "    ('preprocessor', preprocessor), \n",
        "    ('classifier', classifier)],\n",
        "  \n",
        ")\n",
        "#RandomOverSampler(random_state=1909, return_indices=False, ratio=None)\n",
        "\n"
      ]
    },
    {
      "cell_type": "code",
      "execution_count": null,
      "metadata": {
        "id": "yV1skZljOl4C",
        "vscode": {
          "languageId": "python"
        }
      },
      "outputs": [],
      "source": [
        "scorer = make_scorer(f1_score, pos_label='Yes')"
      ]
    },
    {
      "cell_type": "code",
      "execution_count": null,
      "metadata": {
        "colab": {
          "base_uri": "https://localhost:8080/"
        },
        "id": "171oLmowcqmU",
        "outputId": "f2fc15f9-5b91-49de-f6ee-a43b0ebceac9",
        "vscode": {
          "languageId": "python"
        }
      },
      "outputs": [
        {
          "name": "stderr",
          "output_type": "stream",
          "text": [
            "[Parallel(n_jobs=-1)]: Using backend LokyBackend with 2 concurrent workers.\n",
            "[Parallel(n_jobs=-1)]: Done  10 out of  10 | elapsed:    5.4s finished\n"
          ]
        }
      ],
      "source": [
        "res_cv = cross_validate(pipeline, X_train, y_train, scoring=scorer, cv=10, n_jobs=-1, verbose=1, return_train_score=True)"
      ]
    },
    {
      "cell_type": "markdown",
      "metadata": {
        "id": "B_iFcqG3bIGJ"
      },
      "source": [
        "# **Hyperparameter**"
      ]
    },
    {
      "cell_type": "code",
      "execution_count": null,
      "metadata": {
        "id": "0Fh91Aq3PQYy",
        "vscode": {
          "languageId": "python"
        }
      },
      "outputs": [],
      "source": [
        "colsample_bynode = uniform(0.8,0.3)\n",
        "gamma = uniform(0,0.5)\n",
        "reg_alpha = [1,2,3]\n",
        "learning_rate = uniform(0.02,0.2)\n",
        "max_depth = [int(x) for x in np.linspace(start = 1, stop = 100, num = 50)]\n",
        "n_estimators = [int(x) for x in np.linspace(start = 10, stop = 200, num = 50)]\n",
        "subsample = uniform (0.7,0.2)\n",
        "\n",
        "param_distributions = {\n",
        "\n",
        "  'classifier__colsample_bynode': colsample_bynode,\n",
        "  'classifier__gamma': gamma,\n",
        "  'classifier__learning_rate': learning_rate,\n",
        "  'classifier__max_depth': max_depth,\n",
        "  'classifier__n_estimators': n_estimators,\n",
        "  'classifier__subsample': subsample,\n",
        "  'classifier__reg_alpha': reg_alpha,\n",
        "\n",
        "   }\n",
        "  \n",
        "\n"
      ]
    },
    {
      "cell_type": "markdown",
      "metadata": {
        "id": "Ac7ahkxFbPFm"
      },
      "source": [
        "# **Hyperparameter Optimization**"
      ]
    },
    {
      "cell_type": "code",
      "execution_count": null,
      "metadata": {
        "id": "HzeS9z4MPewu",
        "vscode": {
          "languageId": "python"
        }
      },
      "outputs": [],
      "source": [
        "search = RandomizedSearchCV(\n",
        "    pipeline, param_distributions = param_distributions, n_iter=5, scoring=scorer, \n",
        "    n_jobs=-1,  cv=10, random_state=1909, return_train_score=True)"
      ]
    },
    {
      "cell_type": "code",
      "execution_count": null,
      "metadata": {
        "id": "RqB5vc6WPi3w",
        "vscode": {
          "languageId": "python"
        }
      },
      "outputs": [],
      "source": [
        "search = search.fit(X_train, y_train)\n"
      ]
    },
    {
      "cell_type": "code",
      "execution_count": null,
      "metadata": {
        "id": "TbPihq8sPm6L",
        "vscode": {
          "languageId": "python"
        }
      },
      "outputs": [],
      "source": [
        "training_score = search.cv_results_['mean_train_score'][search.best_index_] * 100\n",
        "test_score = search.cv_results_['mean_test_score'][search.best_index_] * 100"
      ]
    },
    {
      "cell_type": "code",
      "execution_count": null,
      "metadata": {
        "colab": {
          "base_uri": "https://localhost:8080/",
          "height": 35
        },
        "id": "uYgfwv-tPnoZ",
        "outputId": "f1c63d2e-15c3-4e28-a62f-944a9035adcd",
        "vscode": {
          "languageId": "python"
        }
      },
      "outputs": [
        {
          "data": {
            "application/vnd.google.colaboratory.intrinsic+json": {
              "type": "string"
            },
            "text/plain": [
              "'Mean F1 Score (Training/Test): 89.72%/88.57%'"
            ]
          },
          "execution_count": 255,
          "metadata": {
            "tags": []
          },
          "output_type": "execute_result"
        }
      ],
      "source": [
        "f'Mean F1 Score (Training/Test): {training_score:.2f}%/{test_score:.2f}%'"
      ]
    },
    {
      "cell_type": "code",
      "execution_count": null,
      "metadata": {
        "colab": {
          "base_uri": "https://localhost:8080/"
        },
        "id": "DZxIBoI6Bhh5",
        "outputId": "4bea0dee-0929-401f-ab17-478a386cfb2e",
        "vscode": {
          "languageId": "python"
        }
      },
      "outputs": [
        {
          "data": {
            "text/plain": [
              "{'classifier__colsample_bynode': 0.929204196565546,\n",
              " 'classifier__gamma': 0.25853683693019985,\n",
              " 'classifier__learning_rate': 0.0876034856703405,\n",
              " 'classifier__max_depth': 3,\n",
              " 'classifier__n_estimators': 130,\n",
              " 'classifier__reg_alpha': 1,\n",
              " 'classifier__subsample': 0.7619993062149083}"
            ]
          },
          "execution_count": 256,
          "metadata": {
            "tags": []
          },
          "output_type": "execute_result"
        }
      ],
      "source": [
        "search.best_params_"
      ]
    },
    {
      "cell_type": "code",
      "execution_count": null,
      "metadata": {
        "id": "JfudMD4k9T-6",
        "vscode": {
          "languageId": "python"
        }
      },
      "outputs": [],
      "source": [
        "y_pred = search.predict(X_test)"
      ]
    },
    {
      "cell_type": "code",
      "execution_count": null,
      "metadata": {
        "colab": {
          "base_uri": "https://localhost:8080/"
        },
        "id": "ysZC2yJq9fZz",
        "outputId": "f57b9050-c587-4844-fc7f-4eb5bb9c141b",
        "vscode": {
          "languageId": "python"
        }
      },
      "outputs": [
        {
          "name": "stdout",
          "output_type": "stream",
          "text": [
            "              precision    recall  f1-score   support\n",
            "\n",
            "          No       0.92      0.85      0.88      1014\n",
            "         Yes       0.86      0.92      0.89       986\n",
            "\n",
            "    accuracy                           0.89      2000\n",
            "   macro avg       0.89      0.89      0.89      2000\n",
            "weighted avg       0.89      0.89      0.89      2000\n",
            "\n"
          ]
        }
      ],
      "source": [
        "print(classification_report(y_test, y_pred))"
      ]
    },
    {
      "cell_type": "code",
      "execution_count": null,
      "metadata": {
        "id": "rAsfQo8qBX_2",
        "vscode": {
          "languageId": "python"
        }
      },
      "outputs": [],
      "source": [
        "n_estimators = [129,130,131,132,133]\n",
        "gamma = [0.1]\n",
        "reg_alpha = [1]\n",
        "learning_rate = [0.07]\n",
        "max_depth = [4]\n",
        "colsample_bynode = [0.7,0.8,0.9]\n",
        "subsample = [0.8]\n",
        "params =   {'classifier__colsample_bynode': colsample_bynode,\n",
        "  'classifier__gamma': gamma,\n",
        "  'classifier__learning_rate': learning_rate,\n",
        "  'classifier__max_depth': max_depth,\n",
        "  'classifier__n_estimators': n_estimators,\n",
        "  'classifier__subsample': subsample,\n",
        "  'classifier__reg_alpha': reg_alpha}"
      ]
    },
    {
      "cell_type": "code",
      "execution_count": null,
      "metadata": {
        "id": "UVxpPL0VBAzM",
        "vscode": {
          "languageId": "python"
        }
      },
      "outputs": [],
      "source": [
        "search = GridSearchCV(\n",
        "    pipeline, param_grid = params, scoring=scorer, \n",
        "    n_jobs=-1,  cv=10,  return_train_score=True)"
      ]
    },
    {
      "cell_type": "code",
      "execution_count": null,
      "metadata": {
        "id": "yyRY1b6kBzzy",
        "vscode": {
          "languageId": "python"
        }
      },
      "outputs": [],
      "source": [
        "search = search.fit(X_train, y_train)"
      ]
    },
    {
      "cell_type": "code",
      "execution_count": null,
      "metadata": {
        "id": "qmBiYnpJB4lP",
        "vscode": {
          "languageId": "python"
        }
      },
      "outputs": [],
      "source": [
        "training_score = search.cv_results_['mean_train_score'][search.best_index_] * 100\n",
        "test_score = search.cv_results_['mean_test_score'][search.best_index_] * 100"
      ]
    },
    {
      "cell_type": "code",
      "execution_count": null,
      "metadata": {
        "colab": {
          "base_uri": "https://localhost:8080/",
          "height": 35
        },
        "id": "WfOZQJx8B6o-",
        "outputId": "e7bca180-0da5-4875-f70c-9f60853aa228",
        "vscode": {
          "languageId": "python"
        }
      },
      "outputs": [
        {
          "data": {
            "application/vnd.google.colaboratory.intrinsic+json": {
              "type": "string"
            },
            "text/plain": [
              "'Mean F1 Score (Training/Test): 90.45%/88.80%'"
            ]
          },
          "execution_count": 210,
          "metadata": {
            "tags": []
          },
          "output_type": "execute_result"
        }
      ],
      "source": [
        "f'Mean F1 Score (Training/Test): {training_score:.2f}%/{test_score:.2f}%'"
      ]
    },
    {
      "cell_type": "code",
      "execution_count": null,
      "metadata": {
        "id": "UdyCWwvgDAfY",
        "vscode": {
          "languageId": "python"
        }
      },
      "outputs": [],
      "source": [
        "y_pred = search.predict(X_test)"
      ]
    },
    {
      "cell_type": "code",
      "execution_count": null,
      "metadata": {
        "colab": {
          "base_uri": "https://localhost:8080/"
        },
        "id": "0KJaMHJ4DCyH",
        "outputId": "65f0af04-024d-4c46-f9e3-b37740964466",
        "vscode": {
          "languageId": "python"
        }
      },
      "outputs": [
        {
          "name": "stdout",
          "output_type": "stream",
          "text": [
            "              precision    recall  f1-score   support\n",
            "\n",
            "          No       0.92      0.85      0.88      1014\n",
            "         Yes       0.85      0.92      0.89       986\n",
            "\n",
            "    accuracy                           0.88      2000\n",
            "   macro avg       0.89      0.88      0.88      2000\n",
            "weighted avg       0.89      0.88      0.88      2000\n",
            "\n"
          ]
        }
      ],
      "source": [
        "print(classification_report(y_test, y_pred))"
      ]
    },
    {
      "cell_type": "code",
      "execution_count": null,
      "metadata": {
        "colab": {
          "base_uri": "https://localhost:8080/"
        },
        "id": "uWQSAEELDuem",
        "outputId": "1118e25b-2058-4dd2-ed4a-1aad9e1ef2c7",
        "vscode": {
          "languageId": "python"
        }
      },
      "outputs": [
        {
          "data": {
            "text/plain": [
              "{'classifier__colsample_bynode': 0.9,\n",
              " 'classifier__gamma': 0.1,\n",
              " 'classifier__learning_rate': 0.07,\n",
              " 'classifier__max_depth': 4,\n",
              " 'classifier__n_estimators': 129,\n",
              " 'classifier__reg_alpha': 1,\n",
              " 'classifier__subsample': 0.8}"
            ]
          },
          "execution_count": 213,
          "metadata": {
            "tags": []
          },
          "output_type": "execute_result"
        }
      ],
      "source": [
        "search.best_params_"
      ]
    },
    {
      "cell_type": "markdown",
      "metadata": {
        "id": "ArVCsZoK9MFe"
      },
      "source": [
        "# **Prediction**"
      ]
    },
    {
      "cell_type": "code",
      "execution_count": null,
      "metadata": {
        "id": "Df_GH_G5j32i",
        "vscode": {
          "languageId": "python"
        }
      },
      "outputs": [],
      "source": [
        "prediction_dataset['year']=prediction_dataset['date'].dt.year\n",
        "prediction_dataset['month']=prediction_dataset['date'].dt.month\n",
        "prediction_dataset['day']=prediction_dataset['date'].dt.day\n",
        "prediction_dataset['weekday']=prediction_dataset['date'].dt.weekday\n",
        "prediction_dataset['mean_call']=prediction_dataset['duration']/(prediction_dataset['n_contacts_campaign']+prediction_dataset['n_contacts_before'])\n",
        "prediction_dataset['age_group']=pd.cut(prediction_dataset.age, bins=[0,20,40,60,80,100], labels=['0-20','20-40','40-60','60-80','80-100'])"
      ]
    },
    {
      "cell_type": "code",
      "execution_count": null,
      "metadata": {
        "colab": {
          "base_uri": "https://localhost:8080/"
        },
        "id": "fjV5dqX3gunw",
        "outputId": "a0d8e735-aada-4621-d350-bb974e66d8d7",
        "vscode": {
          "languageId": "python"
        }
      },
      "outputs": [
        {
          "name": "stderr",
          "output_type": "stream",
          "text": [
            "/usr/local/lib/python3.7/dist-packages/sklearn/compose/_column_transformer.py:430: FutureWarning: Given feature/column names or counts do not match the ones for the data given during fit. This will fail from v0.24.\n",
            "  FutureWarning)\n"
          ]
        }
      ],
      "source": [
        "predictions = search.best_estimator_.predict(prediction_dataset)"
      ]
    },
    {
      "cell_type": "code",
      "execution_count": null,
      "metadata": {
        "id": "d6vFILz7IXMx",
        "vscode": {
          "languageId": "python"
        }
      },
      "outputs": [],
      "source": [
        "submission = pd.DataFrame(\n",
        "    predictions, index=prediction_dataset.index, columns=['prediction'])"
      ]
    },
    {
      "cell_type": "code",
      "execution_count": null,
      "metadata": {
        "id": "VfiDHeRgIrut",
        "vscode": {
          "languageId": "python"
        }
      },
      "outputs": [],
      "source": [
        "matriculation_number = '00000'"
      ]
    },
    {
      "cell_type": "code",
      "execution_count": null,
      "metadata": {
        "id": "0NbLa52fIuIP",
        "vscode": {
          "languageId": "python"
        }
      },
      "outputs": [],
      "source": [
        "submission.to_csv(\n",
        "    f'./submission-{matriculation_number}.csv', index_label='identifier')"
      ]
    },
    {
      "cell_type": "code",
      "execution_count": null,
      "metadata": {
        "colab": {
          "base_uri": "https://localhost:8080/",
          "height": 17
        },
        "id": "KvQEPfamKM4a",
        "outputId": "4b269d8e-fbd1-414c-d500-d95baf8936c6",
        "vscode": {
          "languageId": "python"
        }
      },
      "outputs": [
        {
          "data": {
            "application/javascript": "\n    async function download(id, filename, size) {\n      if (!google.colab.kernel.accessAllowed) {\n        return;\n      }\n      const div = document.createElement('div');\n      const label = document.createElement('label');\n      label.textContent = `Downloading \"${filename}\": `;\n      div.appendChild(label);\n      const progress = document.createElement('progress');\n      progress.max = size;\n      div.appendChild(progress);\n      document.body.appendChild(div);\n\n      const buffers = [];\n      let downloaded = 0;\n\n      const channel = await google.colab.kernel.comms.open(id);\n      // Send a message to notify the kernel that we're ready.\n      channel.send({})\n\n      for await (const message of channel.messages) {\n        // Send a message to notify the kernel that we're ready.\n        channel.send({})\n        if (message.buffers) {\n          for (const buffer of message.buffers) {\n            buffers.push(buffer);\n            downloaded += buffer.byteLength;\n            progress.value = downloaded;\n          }\n        }\n      }\n      const blob = new Blob(buffers, {type: 'application/binary'});\n      const a = document.createElement('a');\n      a.href = window.URL.createObjectURL(blob);\n      a.download = filename;\n      div.appendChild(a);\n      a.click();\n      div.remove();\n    }\n  ",
            "text/plain": [
              "<IPython.core.display.Javascript object>"
            ]
          },
          "metadata": {
            "tags": []
          },
          "output_type": "display_data"
        },
        {
          "data": {
            "application/javascript": "download(\"download_bd88d2f0-7348-40e0-90bd-7b364cb8e344\", \"submission-496355.csv\", 37025)",
            "text/plain": [
              "<IPython.core.display.Javascript object>"
            ]
          },
          "metadata": {
            "tags": []
          },
          "output_type": "display_data"
        }
      ],
      "source": [
        "from google.colab import files\n",
        "files.download('submission-00000.csv')"
      ]
    }
  ],
  "metadata": {
    "colab": {
      "collapsed_sections": [],
      "name": "Final Model_Iuliia Atutova_Lukas Liessem",
      "provenance": [],
      "toc_visible": true
    },
    "kernelspec": {
      "display_name": "Python 3",
      "name": "python3"
    }
  },
  "nbformat": 4,
  "nbformat_minor": 0
}
